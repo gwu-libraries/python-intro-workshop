{
 "cells": [
  {
   "cell_type": "markdown",
   "metadata": {
    "collapsed": true
   },
   "source": [
    "# Welcome to the **GW Libraries Programming with Python workshop.**\n",
    "\n",
    "### Quick tips\n",
    "\n",
    "Here are some handy shortcuts when working in a Jupyter notebook:\n",
    "- Shift-Return (Shift-Enter) re-runs the cell you're on.\n",
    "- Esc, then A inserts a cell above where you are.\n",
    "- Esc, then B inserts a cell below where you are.\n",
    "- More shortcuts under Help --> Keyboard Shortcuts\n",
    "\n",
    "You will probably get some errors in working through this notebook.  That's okay, you can just go back and change the cell and re-run it.\n",
    "\n",
    "The notebook auto-saves as you work, just like gmail!\n",
    "\n",
    "# Variables\n",
    "\n",
    "The first thing we're going to do is to learn about **variables**.  Variables are a way to store values that can be numbers, text, lists, boolean (true/false), etc.\n",
    "\n",
    "Much like in algebra, you set the value of a variable using what looks like an equation:\n"
   ]
  },
  {
   "cell_type": "code",
   "execution_count": null,
   "metadata": {
    "collapsed": false
   },
   "outputs": [],
   "source": [
    "price = 7.99"
   ]
  },
  {
   "cell_type": "markdown",
   "metadata": {},
   "source": [
    "So let's see the effect of that, by having Python **evaluate** our variable called `price`:"
   ]
  },
  {
   "cell_type": "code",
   "execution_count": null,
   "metadata": {
    "collapsed": false
   },
   "outputs": [],
   "source": [
    "price"
   ]
  },
  {
   "cell_type": "markdown",
   "metadata": {},
   "source": [
    "Next, set the value of a new variable to your name.   A couple of things you'll need to know:\n",
    "* Variable names can't contain spaces or special characters (except `_` )\n",
    "* String values (like words or text) must be contained in a pair of either matching single quotes or matching double quotes."
   ]
  },
  {
   "cell_type": "code",
   "execution_count": null,
   "metadata": {
    "collapsed": false
   },
   "outputs": [],
   "source": []
  },
  {
   "cell_type": "code",
   "execution_count": null,
   "metadata": {
    "collapsed": false
   },
   "outputs": [],
   "source": []
  },
  {
   "cell_type": "markdown",
   "metadata": {},
   "source": [
    "Try using foreign characters in your string.  Python 3 handles these well."
   ]
  },
  {
   "cell_type": "code",
   "execution_count": null,
   "metadata": {
    "collapsed": true
   },
   "outputs": [],
   "source": []
  },
  {
   "cell_type": "markdown",
   "metadata": {},
   "source": [
    "What if we wanted to do some simple math using these variables?\n",
    "\n",
    "* Create a new variable called `quantity` and set it to a number.\n",
    "* Create another new variable called `extended_price` and set it to the product of price \\* quantity (use `*` for multiplying)\n"
   ]
  },
  {
   "cell_type": "code",
   "execution_count": null,
   "metadata": {
    "collapsed": false
   },
   "outputs": [],
   "source": []
  },
  {
   "cell_type": "markdown",
   "metadata": {},
   "source": [
    "What happens if you try multiplying the name variable by 4?"
   ]
  },
  {
   "cell_type": "code",
   "execution_count": null,
   "metadata": {
    "collapsed": false
   },
   "outputs": [],
   "source": []
  },
  {
   "cell_type": "markdown",
   "metadata": {},
   "source": [
    "How about if you *divide* it by 2?  Add a number to it?  Add another name to it (using `+`)?"
   ]
  },
  {
   "cell_type": "code",
   "execution_count": null,
   "metadata": {
    "collapsed": false
   },
   "outputs": [],
   "source": []
  },
  {
   "cell_type": "markdown",
   "metadata": {},
   "source": [
    "What we're starting to see here is that Python has different **types** for numbers, text, and more.  You can find out the type of a variable by using:\n",
    "\n",
    "**`type(myvariablename)`**\n",
    "\n",
    "Try it."
   ]
  },
  {
   "cell_type": "code",
   "execution_count": null,
   "metadata": {
    "collapsed": false
   },
   "outputs": [],
   "source": []
  },
  {
   "cell_type": "markdown",
   "metadata": {},
   "source": [
    "Numbers, by the way, aren't just numbers.  Look at the type of the `price` variable versus another variable set to `7`.\n",
    "\n",
    "You can even re-assign a variable to new type.  Try it!"
   ]
  },
  {
   "cell_type": "code",
   "execution_count": null,
   "metadata": {
    "collapsed": false
   },
   "outputs": [],
   "source": []
  },
  {
   "cell_type": "markdown",
   "metadata": {},
   "source": [
    "There's also another important basic variable type, called a boolean variable.  Booleans can have a value of **`True`** or **`False`** (capitalized, in Python)\n",
    "\n",
    "Create a variable called `gwstudent` and assign its value to `True`:"
   ]
  },
  {
   "cell_type": "code",
   "execution_count": null,
   "metadata": {
    "collapsed": false
   },
   "outputs": [],
   "source": []
  },
  {
   "cell_type": "markdown",
   "metadata": {},
   "source": [
    "Now evaluate the `type()` of gwstudent."
   ]
  },
  {
   "cell_type": "code",
   "execution_count": null,
   "metadata": {
    "collapsed": false
   },
   "outputs": [],
   "source": []
  },
  {
   "cell_type": "markdown",
   "metadata": {},
   "source": [
    "#### Comparison operators:  <, >, ==, !=, <=, >=, and, or, not, ...\n",
    "\n",
    "Try out some comparisons, for example, whether:\n",
    "* `price` is greater than 5.99\n",
    "* `name` is equal to \"Dan\""
   ]
  },
  {
   "cell_type": "code",
   "execution_count": null,
   "metadata": {
    "collapsed": false
   },
   "outputs": [],
   "source": []
  },
  {
   "cell_type": "markdown",
   "metadata": {},
   "source": [
    "# Lists and Tuples"
   ]
  },
  {
   "cell_type": "markdown",
   "metadata": {},
   "source": [
    "**Lists** in Python hold an _ordered_ sequence of elements, like this:\n",
    "\n",
    "`states = ['Virginia', 'Maryland', 'New Jersey', 'Utah', 'Rhode Island']`\n",
    "\n",
    "Try creating a list of several countries."
   ]
  },
  {
   "cell_type": "code",
   "execution_count": null,
   "metadata": {
    "collapsed": false
   },
   "outputs": [],
   "source": []
  },
  {
   "cell_type": "markdown",
   "metadata": {},
   "source": [
    "We can access elements of the list using the `mylist[n]` notation.\n",
    "\n",
    "Try retrieving the first country in the list you created above."
   ]
  },
  {
   "cell_type": "code",
   "execution_count": null,
   "metadata": {
    "collapsed": false
   },
   "outputs": [],
   "source": []
  },
  {
   "cell_type": "markdown",
   "metadata": {},
   "source": [
    "Notice that in Python, the first element of the list is really the \"0th\" element (this is not the case when programming in R!)\n",
    "\n",
    "You can also access parts of the list using syntax like: [0:2], [:2], [3:], [-2],[-2:].  See if you can figure out what these do."
   ]
  },
  {
   "cell_type": "code",
   "execution_count": null,
   "metadata": {
    "collapsed": false
   },
   "outputs": [],
   "source": []
  },
  {
   "cell_type": "markdown",
   "metadata": {
    "collapsed": false
   },
   "source": [
    "Lists come with useful functions, like `len(mylist)` which returns the length of the list."
   ]
  },
  {
   "cell_type": "code",
   "execution_count": null,
   "metadata": {
    "collapsed": false
   },
   "outputs": [],
   "source": []
  },
  {
   "cell_type": "markdown",
   "metadata": {
    "collapsed": false
   },
   "source": [
    "What if you wanted to add an element to a list?  Or remove an element from a list?  Try using:\n",
    "\n",
    "`mylist.append(<the new element>)`\n",
    "for example, `states.append('New York')`"
   ]
  },
  {
   "cell_type": "code",
   "execution_count": null,
   "metadata": {
    "collapsed": false
   },
   "outputs": [],
   "source": []
  },
  {
   "cell_type": "markdown",
   "metadata": {
    "collapsed": true
   },
   "source": [
    "There are also list functions to do things like insert, remove, sort, reverse.  You can also use the `+` operator to add lists together. You can even multiply a list by a number, similar to how earlier we multiplied a string by a number!\n",
    "\n",
    "Try adding a list of two new states to your list."
   ]
  },
  {
   "cell_type": "code",
   "execution_count": null,
   "metadata": {
    "collapsed": false
   },
   "outputs": [],
   "source": []
  },
  {
   "cell_type": "markdown",
   "metadata": {},
   "source": [
    "Strings (like your name variable) also have some list-like behaviors, because they're lists of individual charactres.  How might you get the the n'th character from a string?"
   ]
  },
  {
   "cell_type": "code",
   "execution_count": null,
   "metadata": {
    "collapsed": false
   },
   "outputs": [],
   "source": []
  },
  {
   "cell_type": "markdown",
   "metadata": {},
   "source": [
    "### Tuples\n",
    "\n",
    "Notice that we created a list using [] square brackets.  If we use () parentheses, we create what's called a *tuple*.  A tuple might be something like this:"
   ]
  },
  {
   "cell_type": "code",
   "execution_count": null,
   "metadata": {
    "collapsed": true
   },
   "outputs": [],
   "source": [
    "colors = ('blue', 'green', 'red')"
   ]
  },
  {
   "cell_type": "markdown",
   "metadata": {},
   "source": [
    "Notice that tuples are like lists: you can access elements, etc.  But what if you try to append to a tuple?"
   ]
  },
  {
   "cell_type": "markdown",
   "metadata": {},
   "source": [
    "### The \"in\" operator\n",
    "\n",
    "We can use `in` to see whether an element is found in a list.  Try running this:"
   ]
  },
  {
   "cell_type": "code",
   "execution_count": null,
   "metadata": {
    "collapsed": false
   },
   "outputs": [],
   "source": [
    "'yellow' in colors"
   ]
  },
  {
   "cell_type": "markdown",
   "metadata": {
    "collapsed": true
   },
   "source": [
    "# Dictionaries\n",
    "\n",
    "A **Dictionary** is a container that holds pairs of objects - keys and values.  Keys may be strings or numbers.  A value may be any type, whether an integer, string, boolean, list, etc.  It can even be another dictionary!\n",
    "\n",
    "Here's an example of a dictionary:"
   ]
  },
  {
   "cell_type": "code",
   "execution_count": null,
   "metadata": {
    "collapsed": false
   },
   "outputs": [],
   "source": [
    "workshop = {'name': 'Programming With Python', 'duration': 2,\n",
    "                 'instructors': ['Dan', 'Laura', 'Justin', 'Ian'],\n",
    "                 'awesome': True}"
   ]
  },
  {
   "cell_type": "markdown",
   "metadata": {
    "collapsed": true
   },
   "source": [
    "So dictionaries are very similar to lists, except that they're indexed with keys.\n",
    "\n",
    "Dictionaries are actually data structures that can represent objects in **JSON** (JavaScript Object Notation) format, which today is a very common way of representing data!\n",
    "\n",
    "How do you think you would add an item to a dictionary?  Try adding a 'location' item.  How about replacing an item?\n",
    "\n",
    "How do you think you would access the value of `'instructors'` key from the `workshop` dictionary?"
   ]
  },
  {
   "cell_type": "code",
   "execution_count": null,
   "metadata": {
    "collapsed": false
   },
   "outputs": [],
   "source": []
  },
  {
   "cell_type": "code",
   "execution_count": null,
   "metadata": {
    "collapsed": false
   },
   "outputs": [],
   "source": []
  },
  {
   "cell_type": "markdown",
   "metadata": {
    "collapsed": true
   },
   "source": [
    "### Challenge\n",
    "\n",
    "How might you add two more names to the list of instructors?  (Challenge:  Try to do this in one line, *without* just overriding the list of instructors)"
   ]
  },
  {
   "cell_type": "code",
   "execution_count": null,
   "metadata": {
    "collapsed": false
   },
   "outputs": [],
   "source": []
  },
  {
   "cell_type": "markdown",
   "metadata": {},
   "source": [
    "We can also look up whether a certain key exists in a dictionary.  How might you evaluate whether or not `workshop` contains a `location` key?"
   ]
  },
  {
   "cell_type": "code",
   "execution_count": null,
   "metadata": {
    "collapsed": false
   },
   "outputs": [],
   "source": []
  },
  {
   "cell_type": "code",
   "execution_count": null,
   "metadata": {
    "collapsed": false
   },
   "outputs": [],
   "source": []
  },
  {
   "cell_type": "markdown",
   "metadata": {},
   "source": [
    "# Comments\n",
    "\n",
    "Comment lines start with `#`.  They don't execute any code, but it's a very good idea to comment your code so that the reader (which might be your future self) can understand anything that's not already obvious from your clear and well-written code."
   ]
  },
  {
   "cell_type": "code",
   "execution_count": null,
   "metadata": {
    "collapsed": true
   },
   "outputs": [],
   "source": [
    "# This is a comment and is here for the reader's benefit"
   ]
  },
  {
   "cell_type": "markdown",
   "metadata": {},
   "source": [
    "## Iteration (looping)\n",
    "\n",
    "Iteration allows us to repeat over a section of code, and iterate through a list (or other \"iterable\") at the same time.  **`for`** and **`while`** create iterations, like this:\n",
    "\n",
    "```\n",
    "numbers = [4, 6, 0, 5.5, 3]\n",
    "for n in numbers:\n",
    "    print(\"The next number in the list, squared is \", n**2)\n",
    "    \n",
    "print(\"We're done iterating -- notice that this line isn't indented, so it's outside the loop\")\n",
    "```    \n",
    "\n",
    "and this brings up the topic of **indentation**!  The block (i.e., lines) of code that you're iterating over needs to be indented.  In Python, you should indent by 4 spaces.\n",
    "\n",
    "Try creating a list of exam scores that we'd like to grade on a curve.  Use `max()` to find out the highest score.  Then create an iteration that prints out the score as well as the score graded on a curve (by dividing by the highest score).\n"
   ]
  },
  {
   "cell_type": "code",
   "execution_count": null,
   "metadata": {
    "collapsed": true
   },
   "outputs": [],
   "source": []
  },
  {
   "cell_type": "code",
   "execution_count": null,
   "metadata": {
    "collapsed": false
   },
   "outputs": [],
   "source": []
  },
  {
   "cell_type": "code",
   "execution_count": null,
   "metadata": {
    "collapsed": false
   },
   "outputs": [],
   "source": []
  },
  {
   "cell_type": "markdown",
   "metadata": {},
   "source": [
    "Iterating over dictionaries is slightly different:\n"
   ]
  },
  {
   "cell_type": "code",
   "execution_count": null,
   "metadata": {
    "collapsed": false
   },
   "outputs": [],
   "source": [
    "for key, value in workshop.items():\n",
    "    print (\"The key is \", key, \" and the value is \", value)"
   ]
  },
  {
   "cell_type": "markdown",
   "metadata": {},
   "source": [
    "Notice that dictionaries are unordered.  There's no guarantee about what order the iterator will yield the dictionary items to you in."
   ]
  },
  {
   "cell_type": "markdown",
   "metadata": {
    "collapsed": false
   },
   "source": [
    "## Conditionals\n",
    "\n",
    "Conditional expressions, using `if`, `else`, and `elif` (a contraction of \"else if\") allow us to execute blocks of code only if the condition is true.\n",
    "\n",
    "Create some code that iterates through a list of exam scores.  If a score is 70 or above, it should print out \"Pass!\"  If it's below 70, it should print out \"Fail!\""
   ]
  },
  {
   "cell_type": "code",
   "execution_count": null,
   "metadata": {
    "collapsed": true
   },
   "outputs": [],
   "source": []
  },
  {
   "cell_type": "markdown",
   "metadata": {},
   "source": [
    "## Functions\n",
    "\n",
    "We've already seen some built-in functions, such as `print()`, `max()`, and `len()`.  What if we want to write our own functions?\n",
    "\n",
    "Defining part of a program in Python as a function is done using the `def` keyword. For example a function that takes two arguments and returns their sum can be defined as:"
   ]
  },
  {
   "cell_type": "code",
   "execution_count": null,
   "metadata": {
    "collapsed": false
   },
   "outputs": [],
   "source": [
    "def add_function(a, b, c=0):\n",
    "    result = a + b\n",
    "    return result\n",
    "\n",
    "z = add_function(20, 22)\n",
    "print(z)"
   ]
  },
  {
   "cell_type": "markdown",
   "metadata": {},
   "source": [
    "Here's a function that will normalize a score.  We can keep reusing it."
   ]
  },
  {
   "cell_type": "code",
   "execution_count": null,
   "metadata": {
    "collapsed": false
   },
   "outputs": [],
   "source": [
    "def normalize(score, factor):\n",
    "    return 100*score/factor\n",
    "\n",
    "normalize(86, 96)"
   ]
  },
  {
   "cell_type": "markdown",
   "metadata": {},
   "source": [
    "If we specify which parameter is which, we can pass them in any order we like:"
   ]
  },
  {
   "cell_type": "code",
   "execution_count": null,
   "metadata": {
    "collapsed": false
   },
   "outputs": [],
   "source": [
    "normalize(factor=96, score=86)"
   ]
  },
  {
   "cell_type": "markdown",
   "metadata": {},
   "source": [
    "Key points here:\n",
    "\n",
    "- definition starts with **`def`**\n",
    "- function body is indented\n",
    "- **`return`** keyword precedes returned value\n"
   ]
  },
  {
   "cell_type": "markdown",
   "metadata": {},
   "source": [
    "### Challenge\n",
    "\n",
    "Can you create a function called `pad` that would take a list and pads it with some new item if it's less than the length you want?  You would use it like this:\n",
    "\n",
    "```\n",
    "names = ['Ali', 'Bob', 'Carla']\n",
    "names = pad(names, 5, '*')\n",
    "```\n",
    "Then `names` would evaluate to:\n",
    "```\n",
    "['Ali', 'Bob', 'Carla', '*', '*']\n",
    "```"
   ]
  },
  {
   "cell_type": "code",
   "execution_count": null,
   "metadata": {
    "collapsed": true
   },
   "outputs": [],
   "source": []
  },
  {
   "cell_type": "markdown",
   "metadata": {},
   "source": [
    "# Data with Pandas\n",
    "\n",
    "Since Pandas is a Python library (i.e. not part of what comes \"built in\") we need to **import** it as a library."
   ]
  },
  {
   "cell_type": "code",
   "execution_count": null,
   "metadata": {
    "collapsed": true
   },
   "outputs": [],
   "source": [
    "import pandas as pd"
   ]
  },
  {
   "cell_type": "code",
   "execution_count": null,
   "metadata": {
    "collapsed": false
   },
   "outputs": [],
   "source": []
  },
  {
   "cell_type": "markdown",
   "metadata": {},
   "source": [
    "### The data we're using today\n",
    "\n",
    "For this lesson, we will be using the Portal Teaching data (https://figshare.com/articles/Portal_Project_Teaching_Database/1314459), a subset of the data from Ernst et al Long-term monitoring and experimental manipulation of a Chihuahuan Desert ecosystem near Portal, Arizona, USA (http://onlinelibrary.wiley.com/doi/10.1890/15-2115.1/abstract)"
   ]
  },
  {
   "cell_type": "markdown",
   "metadata": {},
   "source": [
    "This section will use the surveys.csv file that can be downloaded here:  https://ndownloader.figshare.com/files/2292172"
   ]
  },
  {
   "cell_type": "markdown",
   "metadata": {},
   "source": [
    "Each row records the species and weight of each animal caught in plots in the study area.\n",
    "\n",
    "The columns represent:\n",
    "\n",
    "| Column \t| Description |\n",
    "| --- | --- |\n",
    "| record_id |\tUnique id for the observation|\n",
    "| month |\tmonth of observation |\n",
    "|day \t|day of observation|\n",
    "|year |\tyear of observation|\n",
    "|plot_id \t|ID of a particular plot|\n",
    "|species_id |\t2-letter code|\n",
    "|sex |\tsex of animal (\"M\", \"F\")|\n",
    "|hindfoot_length |\tlength of the hindfoot in mm|\n",
    "|weight |\tweight of the animal in grams|"
   ]
  },
  {
   "cell_type": "markdown",
   "metadata": {},
   "source": [
    "Each time we call a function that's in a library, we use the syntax *LibraryName.FunctionName*. Adding the library name with a `.` before the function name tells Python where to find the function. In the example above, we have imported Pandas as `pd`. This means we don't have to type out `pandas` each time we call a Pandas function."
   ]
  },
  {
   "cell_type": "markdown",
   "metadata": {},
   "source": [
    "Let's use panda's built-in function that reads in a CSV file:"
   ]
  },
  {
   "cell_type": "code",
   "execution_count": null,
   "metadata": {
    "collapsed": false
   },
   "outputs": [],
   "source": [
    "pd.read_csv(\"surveys.csv\")"
   ]
  },
  {
   "cell_type": "markdown",
   "metadata": {},
   "source": [
    "That read our CSV file, but we'd like to store it as an **object**.  So we'll create a variable for it, called `surveys_df`.  This is just like how we used a variable above to store an integer, or a string, or a list, or a dictionary.  We're just storing a Pandas DataFrame object instead.\n",
    "\n",
    "Make sure to run the cell below:"
   ]
  },
  {
   "cell_type": "code",
   "execution_count": null,
   "metadata": {
    "collapsed": false
   },
   "outputs": [],
   "source": [
    "surveys_df = pd.read_csv(\"surveys.csv\")"
   ]
  },
  {
   "cell_type": "markdown",
   "metadata": {},
   "source": [
    "Try evaluating `surveys_df`:"
   ]
  },
  {
   "cell_type": "code",
   "execution_count": null,
   "metadata": {
    "collapsed": false
   },
   "outputs": [],
   "source": [
    "surveys_df "
   ]
  },
  {
   "cell_type": "markdown",
   "metadata": {},
   "source": [
    "How would you now check what **class** (type) of object `surveys_df` is?"
   ]
  },
  {
   "cell_type": "code",
   "execution_count": null,
   "metadata": {
    "collapsed": false
   },
   "outputs": [],
   "source": []
  },
  {
   "cell_type": "markdown",
   "metadata": {},
   "source": [
    "`surveys_df` is a Pandas **DataFrame**.   A DataFrame is a 2-dimensional structure that can store data in rows and columns - similar to a spreadsheet or a table, but with some other nice features.  (Yes, it's very similar to a `data.frame` in R.)"
   ]
  },
  {
   "cell_type": "markdown",
   "metadata": {},
   "source": [
    "Just like the Pandas *library* has functions, *objects* can have **functions** (which may take arguments) and **attributes** (which don't).\n",
    "\n",
    "A Pandas DataFrame object has an attribute called `dtypes` which lists out the type of each column:"
   ]
  },
  {
   "cell_type": "code",
   "execution_count": null,
   "metadata": {
    "collapsed": false
   },
   "outputs": [],
   "source": [
    "surveys_df.dtypes"
   ]
  },
  {
   "cell_type": "markdown",
   "metadata": {},
   "source": [
    "Try these to see what they do:\n",
    "\n",
    "    surveys_df.columns\n",
    "    surveys_df.head()\n",
    "Also, what does `surveys_df.head(15)` do, versus `surveys_df.head(4)`?\n",
    "\n",
    "    surveys_df.tail()\n",
    "    surveys_df.shape\n",
    "    \n",
    "Take note of the output of the shape method. What format does it return the shape of the DataFrame in?\n"
   ]
  },
  {
   "cell_type": "code",
   "execution_count": null,
   "metadata": {
    "collapsed": false
   },
   "outputs": [],
   "source": [
    "surveys_df.shape"
   ]
  },
  {
   "cell_type": "markdown",
   "metadata": {},
   "source": [
    "Let's see what type `surveys_df['species_id']` is.  Try it."
   ]
  },
  {
   "cell_type": "code",
   "execution_count": null,
   "metadata": {
    "collapsed": false
   },
   "outputs": [],
   "source": [
    "type(surveys_df['species_id'])"
   ]
  },
  {
   "cell_type": "markdown",
   "metadata": {},
   "source": [
    "You can think of a Pandas **Series** as a series of observations of one variable.  It behaves like a Python list."
   ]
  },
  {
   "cell_type": "markdown",
   "metadata": {},
   "source": [
    "We can also slice and dice -- similar to how we selected parts of list objects above.  What does the next line do?"
   ]
  },
  {
   "cell_type": "code",
   "execution_count": null,
   "metadata": {
    "collapsed": false,
    "scrolled": true
   },
   "outputs": [],
   "source": [
    "surveys_df[3:10]"
   ]
  },
  {
   "cell_type": "markdown",
   "metadata": {},
   "source": [
    "Another way to select is with `.loc`, which selects based on *labels* (as opposed to `.iloc` which selects using *numerical indices*).  Try this:"
   ]
  },
  {
   "cell_type": "code",
   "execution_count": null,
   "metadata": {
    "collapsed": false
   },
   "outputs": [],
   "source": [
    "surveys_df.loc[[3, 10, 12], ['day', 'year', 'species_id']]"
   ]
  },
  {
   "cell_type": "markdown",
   "metadata": {},
   "source": [
    "We can also use `.query` to select only rows matching certain conditions.  Note that the query expression is in single quotes."
   ]
  },
  {
   "cell_type": "code",
   "execution_count": null,
   "metadata": {
    "collapsed": false
   },
   "outputs": [],
   "source": [
    "surveys_df.query('hindfoot_length < 10')"
   ]
  },
  {
   "cell_type": "markdown",
   "metadata": {},
   "source": [
    "**Challenge**:  How might you query to get back only rows with `hindfoot_length < 10` **and** `weight > 10` in ONE expression?  (There is more than one way to accomplish this!)"
   ]
  },
  {
   "cell_type": "markdown",
   "metadata": {},
   "source": [
    "Pandas has a handy function (well, it has many handy functions!) to get all the unique elements in the column:"
   ]
  },
  {
   "cell_type": "code",
   "execution_count": null,
   "metadata": {
    "collapsed": false
   },
   "outputs": [],
   "source": [
    "unique_species = pd.unique(surveys_df['species_id'])"
   ]
  },
  {
   "cell_type": "markdown",
   "metadata": {},
   "source": [
    "Try evaluting the **`.size`** attribute on the above result to see how many unique species there are in the data set."
   ]
  },
  {
   "cell_type": "code",
   "execution_count": null,
   "metadata": {
    "collapsed": false
   },
   "outputs": [],
   "source": [
    "unique_species.size"
   ]
  },
  {
   "cell_type": "markdown",
   "metadata": {},
   "source": [
    "We see from above that we can also isolate just the data in one column.  Let's try isolating the `weight` column, and calling the **`describe()`** function to get some statistics on it."
   ]
  },
  {
   "cell_type": "code",
   "execution_count": null,
   "metadata": {
    "collapsed": false
   },
   "outputs": [],
   "source": [
    "surveys_df['weight'].describe()"
   ]
  },
  {
   "cell_type": "code",
   "execution_count": null,
   "metadata": {
    "collapsed": false
   },
   "outputs": [],
   "source": []
  },
  {
   "cell_type": "markdown",
   "metadata": {},
   "source": [
    "Pandas can also sort and group data based on the values in a column:"
   ]
  },
  {
   "cell_type": "code",
   "execution_count": null,
   "metadata": {
    "collapsed": true
   },
   "outputs": [],
   "source": [
    "sorted_by_sex = surveys_df.groupby('sex')"
   ]
  },
  {
   "cell_type": "markdown",
   "metadata": {},
   "source": [
    "Try running **`describe()`** on `sorted_by_sex`:"
   ]
  },
  {
   "cell_type": "code",
   "execution_count": null,
   "metadata": {
    "collapsed": false
   },
   "outputs": [],
   "source": []
  },
  {
   "cell_type": "markdown",
   "metadata": {},
   "source": [
    "Now we're going to create some series with:\n",
    "\n",
    "* The number of animals observed per species\n",
    "* The mean weight of all animals observed in each species"
   ]
  },
  {
   "cell_type": "code",
   "execution_count": null,
   "metadata": {
    "collapsed": true
   },
   "outputs": [],
   "source": [
    "# a series with the number of samples by species\n",
    "species_counts = surveys_df.groupby('species_id')['record_id'].count()\n",
    "# a series with the mean weight by species\n",
    "species_mean_weights = surveys_df.groupby('species_id')['weight'].mean()"
   ]
  },
  {
   "cell_type": "markdown",
   "metadata": {},
   "source": [
    "Let's try creating some quick bar charts.  First we need to make sure figures appear inline in the notebook:"
   ]
  },
  {
   "cell_type": "code",
   "execution_count": null,
   "metadata": {
    "collapsed": true
   },
   "outputs": [],
   "source": [
    "%matplotlib inline"
   ]
  },
  {
   "cell_type": "markdown",
   "metadata": {},
   "source": [
    "And now we'll create some quick charts:"
   ]
  },
  {
   "cell_type": "code",
   "execution_count": null,
   "metadata": {
    "collapsed": false
   },
   "outputs": [],
   "source": [
    "species_counts.plot(kind='bar', title=\"TITLE GOES HERE\")"
   ]
  },
  {
   "cell_type": "code",
   "execution_count": null,
   "metadata": {
    "collapsed": false
   },
   "outputs": [],
   "source": [
    "species_mean_weights.plot(kind='bar')"
   ]
  },
  {
   "cell_type": "code",
   "execution_count": null,
   "metadata": {
    "collapsed": false
   },
   "outputs": [],
   "source": [
    "surveys_df.plot(kind='scatter', x='hindfoot_length', y='weight', "
   ]
  },
  {
   "cell_type": "code",
   "execution_count": null,
   "metadata": {
    "collapsed": true
   },
   "outputs": [],
   "source": []
  }
 ],
 "metadata": {
  "kernelspec": {
   "display_name": "Python 3",
   "language": "python",
   "name": "python3"
  },
  "language_info": {
   "codemirror_mode": {
    "name": "ipython",
    "version": 3
   },
   "file_extension": ".py",
   "mimetype": "text/x-python",
   "name": "python",
   "nbconvert_exporter": "python",
   "pygments_lexer": "ipython3",
   "version": "3.6.0"
  }
 },
 "nbformat": 4,
 "nbformat_minor": 0
}
